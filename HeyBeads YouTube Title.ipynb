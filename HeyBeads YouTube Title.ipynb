{
 "cells": [
  {
   "cell_type": "code",
   "execution_count": 95,
   "metadata": {},
   "outputs": [],
   "source": [
    "import os\n",
    "import re\n",
    "import pandas as pd\n",
    "import numpy as np\n",
    "import matplotlib.pyplot as plt\n",
    "import seaborn as sns\n",
    "from tqdm.notebook import tqdm\n",
    "\n",
    "%matplotlib inline\n",
    "plt.rcParams['font.size'] = '16'\n",
    "\n",
    "from collections import Counter\n",
    "from nltk.corpus import stopwords\n"
   ]
  },
  {
   "cell_type": "code",
   "execution_count": 124,
   "metadata": {},
   "outputs": [],
   "source": [
    "eng_stopwords = set(stopwords.words('english')) \n",
    "eng_stopwords.add(\"amp\")\n",
    "eng_stopwords.add(\"eng\")"
   ]
  },
  {
   "cell_type": "code",
   "execution_count": 3,
   "metadata": {},
   "outputs": [
    {
     "data": {
      "text/plain": [
       "(52, 6)"
      ]
     },
     "execution_count": 3,
     "metadata": {},
     "output_type": "execute_result"
    }
   ],
   "source": [
    "train_df = pd.read_csv('Keyword Analysis-vintage beads-.csv')\n",
    "train_df.shape"
   ]
  },
  {
   "cell_type": "code",
   "execution_count": 24,
   "metadata": {},
   "outputs": [
    {
     "data": {
      "text/html": [
       "<div>\n",
       "<style scoped>\n",
       "    .dataframe tbody tr th:only-of-type {\n",
       "        vertical-align: middle;\n",
       "    }\n",
       "\n",
       "    .dataframe tbody tr th {\n",
       "        vertical-align: top;\n",
       "    }\n",
       "\n",
       "    .dataframe thead th {\n",
       "        text-align: right;\n",
       "    }\n",
       "</style>\n",
       "<table border=\"1\" class=\"dataframe\">\n",
       "  <thead>\n",
       "    <tr style=\"text-align: right;\">\n",
       "      <th></th>\n",
       "      <th>up time</th>\n",
       "      <th>channelId</th>\n",
       "      <th>title</th>\n",
       "      <th>description</th>\n",
       "      <th>youtuber</th>\n",
       "    </tr>\n",
       "  </thead>\n",
       "  <tbody>\n",
       "    <tr>\n",
       "      <th>0</th>\n",
       "      <td>2021-09-13T18:43:20Z</td>\n",
       "      <td>UCSvzb90XLo2f-j7sfwQsrYA</td>\n",
       "      <td>UNBOXING Rare Vintage BEADS &amp;amp; CHARMS! (80s...</td>\n",
       "      <td>FOLLOW MY TIK TOK: https://www.tiktok.com/@gra...</td>\n",
       "      <td>banana peppers</td>\n",
       "    </tr>\n",
       "    <tr>\n",
       "      <th>1</th>\n",
       "      <td>2019-07-12T02:23:36Z</td>\n",
       "      <td>UCeZvO_PIyGoqPl_EHiUEhaA</td>\n",
       "      <td>Beads:  the Ancient International Currency</td>\n",
       "      <td>Often overlooked, ancient beads are abundantly...</td>\n",
       "      <td>Kasaysayan Hunters</td>\n",
       "    </tr>\n",
       "    <tr>\n",
       "      <th>2</th>\n",
       "      <td>2020-12-25T16:12:16Z</td>\n",
       "      <td>UCPUqBevT81GAuuCqpqpXROg</td>\n",
       "      <td>Vintage Necklace Haul Vintage beads Japan</td>\n",
       "      <td>Some of my favorite vintage bead necklaces. th...</td>\n",
       "      <td>Vintage Discoveries</td>\n",
       "    </tr>\n",
       "    <tr>\n",
       "      <th>3</th>\n",
       "      <td>2015-05-08T15:05:36Z</td>\n",
       "      <td>UC_bUcF0Vda0W0K6Ek7ygorw</td>\n",
       "      <td>Show and Tell: Vintage Beads</td>\n",
       "      <td>http://www.beadaholique.com/beads-pendants-cha...</td>\n",
       "      <td>Beadaholique</td>\n",
       "    </tr>\n",
       "    <tr>\n",
       "      <th>4</th>\n",
       "      <td>2020-09-20T17:42:16Z</td>\n",
       "      <td>UCcjrCFCAZJUkYURMtxwpvmA</td>\n",
       "      <td>Making beautiful beads from antique glass! Rec...</td>\n",
       "      <td>Join us on our bead-making adventure to find a...</td>\n",
       "      <td>Northern Mudlarks</td>\n",
       "    </tr>\n",
       "  </tbody>\n",
       "</table>\n",
       "</div>"
      ],
      "text/plain": [
       "                up time                 channelId  \\\n",
       "0  2021-09-13T18:43:20Z  UCSvzb90XLo2f-j7sfwQsrYA   \n",
       "1  2019-07-12T02:23:36Z  UCeZvO_PIyGoqPl_EHiUEhaA   \n",
       "2  2020-12-25T16:12:16Z  UCPUqBevT81GAuuCqpqpXROg   \n",
       "3  2015-05-08T15:05:36Z  UC_bUcF0Vda0W0K6Ek7ygorw   \n",
       "4  2020-09-20T17:42:16Z  UCcjrCFCAZJUkYURMtxwpvmA   \n",
       "\n",
       "                                               title  \\\n",
       "0  UNBOXING Rare Vintage BEADS &amp; CHARMS! (80s...   \n",
       "1         Beads:  the Ancient International Currency   \n",
       "2          Vintage Necklace Haul Vintage beads Japan   \n",
       "3                       Show and Tell: Vintage Beads   \n",
       "4  Making beautiful beads from antique glass! Rec...   \n",
       "\n",
       "                                         description             youtuber  \n",
       "0  FOLLOW MY TIK TOK: https://www.tiktok.com/@gra...       banana peppers  \n",
       "1  Often overlooked, ancient beads are abundantly...   Kasaysayan Hunters  \n",
       "2  Some of my favorite vintage bead necklaces. th...  Vintage Discoveries  \n",
       "3  http://www.beadaholique.com/beads-pendants-cha...         Beadaholique  \n",
       "4  Join us on our bead-making adventure to find a...    Northern Mudlarks  "
      ]
     },
     "execution_count": 24,
     "metadata": {},
     "output_type": "execute_result"
    }
   ],
   "source": [
    "df = train_df.iloc[2:]\n",
    "df = df.reset_index()\n",
    "df = df.drop(['index','Enter the Term'],axis = 1)\n",
    "df.columns = ['up time','channelId','title','description','youtuber']\n",
    "df.head(5)"
   ]
  },
  {
   "cell_type": "code",
   "execution_count": 112,
   "metadata": {},
   "outputs": [],
   "source": [
    "def titles_to_word_sets(titles_series):\n",
    "    # cleanup characters\n",
    "    titles_words = titles_series.str.lower().replace(r'[^a-z ]+','', regex=True).unique()\n",
    "    \n",
    "    # create list of sets of word for each dataset label\n",
    "    titles_words = [set(t_words.split()) for t_words in titles_words]\n",
    "    # remove stopwords\n",
    "    titles_words = [t_words.difference(eng_stopwords) for t_words in titles_words]\n",
    "    return titles_words\n",
    "\n",
    "def count_occurences (list_of_word_sets):\n",
    "    cnt = Counter ([w for word_set in list_of_word_sets for w in word_set])\n",
    "    return {k: v for k, v in sorted(cnt.items(), key=lambda item: item[1], reverse=True)}\n",
    "\n",
    "titles_words = titles_to_word_sets(df.title)\n",
    "occurencies = count_occurences(titles_words)\n",
    "\n",
    "counts1 = list(occurencies.items())[:15]"
   ]
  },
  {
   "cell_type": "code",
   "execution_count": 104,
   "metadata": {},
   "outputs": [],
   "source": [
    "c1 = pd.DataFrame(counts1)\n",
    "c1.columns = ['word','count']"
   ]
  },
  {
   "cell_type": "code",
   "execution_count": 109,
   "metadata": {},
   "outputs": [
    {
     "data": {
      "image/png": "[encoded data removed]",
      "text/plain": [
       "<Figure size 576x576 with 1 Axes>"
      ]
     },
     "metadata": {
      "needs_background": "light"
     },
     "output_type": "display_data"
    }
   ],
   "source": [
    "\n",
    "fig, ax = plt.subplots(figsize=(8, 8))\n",
    "ax =sns.barplot(x='count',y='word',data=c1)\n",
    "ax.set_title(\"Common Words Found in Top 50 Titles(Vintage Beads)\")\n",
    "plt.show()"
   ]
  },
  {
   "cell_type": "code",
   "execution_count": 19,
   "metadata": {},
   "outputs": [
    {
     "name": "stdout",
     "output_type": "stream",
     "text": [
      "Analyzing words from 50 titles; found 3 words\n"
     ]
    },
    {
     "data": {
      "text/plain": [
       "{'beads': 42, 'vintage': 7, '_REMAINING_': 1}"
      ]
     },
     "execution_count": 19,
     "metadata": {},
     "output_type": "execute_result"
    }
   ],
   "source": [
    "def find_coverage_words(words_sets, min_occurencies=3):\n",
    "    \"\"\" finds a few words that covers most word sets provided\n",
    "    set min_occurencies to 1 to cover all words set.\n",
    "    returns dict with covering words and number of words_sets excluded at iteration \n",
    "    \"\"\"\n",
    "    coverage_words = {}\n",
    "    while len(words_sets) > 0:\n",
    "        occur_dict = count_occurences(words_sets)\n",
    "        next_word, next_word_count = list(occur_dict.items())[0]\n",
    "        if next_word_count < min_occurencies:\n",
    "            break\n",
    "        words_sets = [word_set for word_set in words_sets if next_word not in word_set]\n",
    "        coverage_words[next_word] = next_word_count\n",
    "    coverage_words['_REMAINING_'] = len(words_sets)\n",
    "    return coverage_words, len(words_sets)\n",
    "\n",
    "coverage_words, n_remaining = find_coverage_words(titles_words)\n",
    "print(f\"Analyzing words from {len(titles_words)} titles; found {len(coverage_words)} words\")\n",
    "coverage_words"
   ]
  },
  {
   "cell_type": "code",
   "execution_count": 20,
   "metadata": {},
   "outputs": [
    {
     "data": {
      "text/plain": [
       "(52, 6)"
      ]
     },
     "execution_count": 20,
     "metadata": {},
     "output_type": "execute_result"
    }
   ],
   "source": [
    "craft_df = pd.read_csv('Keyword Analysis-beads craft-.csv')\n",
    "craft_df.shape"
   ]
  },
  {
   "cell_type": "code",
   "execution_count": 23,
   "metadata": {},
   "outputs": [
    {
     "data": {
      "text/html": [
       "<div>\n",
       "<style scoped>\n",
       "    .dataframe tbody tr th:only-of-type {\n",
       "        vertical-align: middle;\n",
       "    }\n",
       "\n",
       "    .dataframe tbody tr th {\n",
       "        vertical-align: top;\n",
       "    }\n",
       "\n",
       "    .dataframe thead th {\n",
       "        text-align: right;\n",
       "    }\n",
       "</style>\n",
       "<table border=\"1\" class=\"dataframe\">\n",
       "  <thead>\n",
       "    <tr style=\"text-align: right;\">\n",
       "      <th></th>\n",
       "      <th>up time</th>\n",
       "      <th>channelId</th>\n",
       "      <th>title</th>\n",
       "      <th>description</th>\n",
       "      <th>youtuber</th>\n",
       "    </tr>\n",
       "  </thead>\n",
       "  <tbody>\n",
       "    <tr>\n",
       "      <th>0</th>\n",
       "      <td>2019-07-28T10:00:00Z</td>\n",
       "      <td>UCbP0hjFiW9CEnL9HpSPbK_Q</td>\n",
       "      <td>5 Brilliant Craft Ideas From beads | Home Deco...</td>\n",
       "      <td>5 DIY Ideas From beads | Home Decor | Artkala ...</td>\n",
       "      <td>Artkala</td>\n",
       "    </tr>\n",
       "    <tr>\n",
       "      <th>1</th>\n",
       "      <td>2019-07-20T10:45:36Z</td>\n",
       "      <td>UCnEpMhGQ1O_2-JK8w2FaSYQ</td>\n",
       "      <td>5 ИДЕЙ поделок ИЗ БИСЕРА своими руками</td>\n",
       "      <td>В этом видео я собрала для Вас 5 мастер-классо...</td>\n",
       "      <td>DIANA Bilohorka</td>\n",
       "    </tr>\n",
       "    <tr>\n",
       "      <th>2</th>\n",
       "      <td>2014-07-20T08:00:03Z</td>\n",
       "      <td>UC8B2IELLIDNH7ki7ke6tXow</td>\n",
       "      <td>DIY: Cute Daisy Chain Bracelet ¦ The Corner of...</td>\n",
       "      <td>Learn how to make this cute and simple daisy c...</td>\n",
       "      <td>The Corner of Craft</td>\n",
       "    </tr>\n",
       "    <tr>\n",
       "      <th>3</th>\n",
       "      <td>2020-11-25T01:00:06Z</td>\n",
       "      <td>UCCNlEU60bIEYB-o3v8y2HDQ</td>\n",
       "      <td>How to make Mask Holder | Beaded Jewelry | Bea...</td>\n",
       "      <td>Hi ! This video is how to make a beaded mask h...</td>\n",
       "      <td>pureag</td>\n",
       "    </tr>\n",
       "    <tr>\n",
       "      <th>4</th>\n",
       "      <td>2019-03-05T16:15:19Z</td>\n",
       "      <td>UCk4Oqj6ZaAezWsSU76bzBLA</td>\n",
       "      <td>DIY 7 Beautiful beads designs/  Easy Beaded cr...</td>\n",
       "      <td>1 - Beads star . Link https://youtu.be/o2_TJq6...</td>\n",
       "      <td>Homemade Creations - HMC - by Vandana Hegde</td>\n",
       "    </tr>\n",
       "  </tbody>\n",
       "</table>\n",
       "</div>"
      ],
      "text/plain": [
       "                up time                 channelId  \\\n",
       "0  2019-07-28T10:00:00Z  UCbP0hjFiW9CEnL9HpSPbK_Q   \n",
       "1  2019-07-20T10:45:36Z  UCnEpMhGQ1O_2-JK8w2FaSYQ   \n",
       "2  2014-07-20T08:00:03Z  UC8B2IELLIDNH7ki7ke6tXow   \n",
       "3  2020-11-25T01:00:06Z  UCCNlEU60bIEYB-o3v8y2HDQ   \n",
       "4  2019-03-05T16:15:19Z  UCk4Oqj6ZaAezWsSU76bzBLA   \n",
       "\n",
       "                                               title  \\\n",
       "0  5 Brilliant Craft Ideas From beads | Home Deco...   \n",
       "1             5 ИДЕЙ поделок ИЗ БИСЕРА своими руками   \n",
       "2  DIY: Cute Daisy Chain Bracelet ¦ The Corner of...   \n",
       "3  How to make Mask Holder | Beaded Jewelry | Bea...   \n",
       "4  DIY 7 Beautiful beads designs/  Easy Beaded cr...   \n",
       "\n",
       "                                         description  \\\n",
       "0  5 DIY Ideas From beads | Home Decor | Artkala ...   \n",
       "1  В этом видео я собрала для Вас 5 мастер-классо...   \n",
       "2  Learn how to make this cute and simple daisy c...   \n",
       "3  Hi ! This video is how to make a beaded mask h...   \n",
       "4  1 - Beads star . Link https://youtu.be/o2_TJq6...   \n",
       "\n",
       "                                      youtuber  \n",
       "0                                      Artkala  \n",
       "1                              DIANA Bilohorka  \n",
       "2                          The Corner of Craft  \n",
       "3                                       pureag  \n",
       "4  Homemade Creations - HMC - by Vandana Hegde  "
      ]
     },
     "execution_count": 23,
     "metadata": {},
     "output_type": "execute_result"
    }
   ],
   "source": [
    "crdf = craft_df.iloc[2:]\n",
    "crdf = crdf.reset_index()\n",
    "crdf = crdf.drop(['index','Enter the Term'], axis = 1)\n",
    "crdf.columns = ['up time','channelId','title','description','youtuber']\n",
    "crdf.head(5)"
   ]
  },
  {
   "cell_type": "code",
   "execution_count": 27,
   "metadata": {},
   "outputs": [
    {
     "name": "stdout",
     "output_type": "stream",
     "text": [
      "Top 10 words by frequency:\n"
     ]
    },
    {
     "data": {
      "text/plain": [
       "[('craft', 36),\n",
       " ('beads', 34),\n",
       " ('diy', 16),\n",
       " ('make', 16),\n",
       " ('beaded', 12),\n",
       " ('ideas', 11),\n",
       " ('bead', 10),\n",
       " ('easy', 9),\n",
       " ('crafts', 7),\n",
       " ('tutorial', 5),\n",
       " ('home', 4),\n",
       " ('making', 4),\n",
       " ('flower', 4),\n",
       " ('decor', 3),\n",
       " ('brilliant', 3),\n",
       " ('corner', 3),\n",
       " ('holder', 3),\n",
       " ('beautiful', 3),\n",
       " ('beginners', 3),\n",
       " ('crystal', 3)]"
      ]
     },
     "execution_count": 27,
     "metadata": {},
     "output_type": "execute_result"
    }
   ],
   "source": [
    "Ctitles_words = titles_to_word_sets(crdf.title)\n",
    "Coccurencies = count_occurences(Ctitles_words)\n",
    "print(\"Top 10 words by frequency:\")\n",
    "list(Coccurencies.items())[:20]"
   ]
  },
  {
   "cell_type": "code",
   "execution_count": 93,
   "metadata": {},
   "outputs": [],
   "source": [
    "c2 = pd.DataFrame(list(Coccurencies.items())[:15],columns = ['word','count'])"
   ]
  },
  {
   "cell_type": "code",
   "execution_count": 92,
   "metadata": {},
   "outputs": [
    {
     "data": {
      "image/png": "[encoded data removed]",
      "text/plain": [
       "<Figure size 576x576 with 1 Axes>"
      ]
     },
     "metadata": {
      "needs_background": "light"
     },
     "output_type": "display_data"
    }
   ],
   "source": [
    "fig, ax = plt.subplots(figsize=(8, 8))\n",
    "ax =sns.barplot(x='count',y='word',data=c2)\n",
    "ax.set_title(\"Common Words Found in Top 50 Titles(Beads Craft)\")\n",
    "plt.show()"
   ]
  },
  {
   "cell_type": "markdown",
   "metadata": {},
   "source": [
    "## Beads Bracelet Top 50 Titles Analysis"
   ]
  },
  {
   "cell_type": "code",
   "execution_count": 113,
   "metadata": {},
   "outputs": [
    {
     "data": {
      "text/html": [
       "<div>\n",
       "<style scoped>\n",
       "    .dataframe tbody tr th:only-of-type {\n",
       "        vertical-align: middle;\n",
       "    }\n",
       "\n",
       "    .dataframe tbody tr th {\n",
       "        vertical-align: top;\n",
       "    }\n",
       "\n",
       "    .dataframe thead th {\n",
       "        text-align: right;\n",
       "    }\n",
       "</style>\n",
       "<table border=\"1\" class=\"dataframe\">\n",
       "  <thead>\n",
       "    <tr style=\"text-align: right;\">\n",
       "      <th></th>\n",
       "      <th>up time</th>\n",
       "      <th>channelId</th>\n",
       "      <th>title</th>\n",
       "      <th>description</th>\n",
       "      <th>youtuber</th>\n",
       "    </tr>\n",
       "  </thead>\n",
       "  <tbody>\n",
       "    <tr>\n",
       "      <th>0</th>\n",
       "      <td>2020-07-08T05:07:46Z</td>\n",
       "      <td>UCAEOyXNpGx4QSn0r74OzyAg</td>\n",
       "      <td>making simple bead bracelets! 🍭 | jelly record.</td>\n",
       "      <td>how to make simple bead bracelets! they are re...</td>\n",
       "      <td>jelly record.</td>\n",
       "    </tr>\n",
       "    <tr>\n",
       "      <th>1</th>\n",
       "      <td>2021-05-11T18:34:40Z</td>\n",
       "      <td>UCC8bEAQinubuRBTkl4PB22Q</td>\n",
       "      <td>DIY seed bead flower bracelet *EASY*</td>\n",
       "      <td>Thank you guys so much for watching this video...</td>\n",
       "      <td>Taylor Alex</td>\n",
       "    </tr>\n",
       "    <tr>\n",
       "      <th>2</th>\n",
       "      <td>2019-08-06T18:03:16Z</td>\n",
       "      <td>UC_bUcF0Vda0W0K6Ek7ygorw</td>\n",
       "      <td>How to Make a Simple Beaded Friendship Bracelet</td>\n",
       "      <td>https://beadaholique.com/collections/beads - I...</td>\n",
       "      <td>Beadaholique</td>\n",
       "    </tr>\n",
       "    <tr>\n",
       "      <th>3</th>\n",
       "      <td>2014-07-20T08:00:03Z</td>\n",
       "      <td>UC8B2IELLIDNH7ki7ke6tXow</td>\n",
       "      <td>DIY: Cute Daisy Chain Bracelet ¦ The Corner of...</td>\n",
       "      <td>Learn how to make this cute and simple daisy c...</td>\n",
       "      <td>The Corner of Craft</td>\n",
       "    </tr>\n",
       "    <tr>\n",
       "      <th>4</th>\n",
       "      <td>2020-01-10T05:23:40Z</td>\n",
       "      <td>UCuaLK6QCWbu-hTAxEMNQknQ</td>\n",
       "      <td>How To Make Simple Pearl Bracelet// Beads Brac...</td>\n",
       "      <td>How to make simple pearl bracelet beads bracel...</td>\n",
       "      <td>Useful &amp; Easy</td>\n",
       "    </tr>\n",
       "  </tbody>\n",
       "</table>\n",
       "</div>"
      ],
      "text/plain": [
       "                up time                 channelId  \\\n",
       "0  2020-07-08T05:07:46Z  UCAEOyXNpGx4QSn0r74OzyAg   \n",
       "1  2021-05-11T18:34:40Z  UCC8bEAQinubuRBTkl4PB22Q   \n",
       "2  2019-08-06T18:03:16Z  UC_bUcF0Vda0W0K6Ek7ygorw   \n",
       "3  2014-07-20T08:00:03Z  UC8B2IELLIDNH7ki7ke6tXow   \n",
       "4  2020-01-10T05:23:40Z  UCuaLK6QCWbu-hTAxEMNQknQ   \n",
       "\n",
       "                                               title  \\\n",
       "0    making simple bead bracelets! 🍭 | jelly record.   \n",
       "1               DIY seed bead flower bracelet *EASY*   \n",
       "2    How to Make a Simple Beaded Friendship Bracelet   \n",
       "3  DIY: Cute Daisy Chain Bracelet ¦ The Corner of...   \n",
       "4  How To Make Simple Pearl Bracelet// Beads Brac...   \n",
       "\n",
       "                                         description             youtuber  \n",
       "0  how to make simple bead bracelets! they are re...        jelly record.  \n",
       "1  Thank you guys so much for watching this video...          Taylor Alex  \n",
       "2  https://beadaholique.com/collections/beads - I...         Beadaholique  \n",
       "3  Learn how to make this cute and simple daisy c...  The Corner of Craft  \n",
       "4  How to make simple pearl bracelet beads bracel...        Useful & Easy  "
      ]
     },
     "execution_count": 113,
     "metadata": {},
     "output_type": "execute_result"
    }
   ],
   "source": [
    "bradf = pd.read_csv('Keyword Analysis -beads bracelet.csv')\n",
    "\n",
    "bradf = bradf.iloc[2:]\n",
    "bradf = bradf.reset_index()\n",
    "bradf = bradf.drop(['index','Enter the Term'],axis = 1)\n",
    "bradf.columns = ['up time','channelId','title','description','youtuber']\n",
    "bradf.head(5)"
   ]
  },
  {
   "cell_type": "code",
   "execution_count": 116,
   "metadata": {},
   "outputs": [],
   "source": [
    "brawords = titles_to_word_sets(bradf.title)\n",
    "bracount = count_occurences(brawords)\n",
    "\n",
    "\n",
    "c3 = pd.DataFrame(list(bracount.items())[:20],columns = ['word','count'])"
   ]
  },
  {
   "cell_type": "code",
   "execution_count": 118,
   "metadata": {},
   "outputs": [
    {
     "data": {
      "image/png": "[encoded data removed]",
      "text/plain": [
       "<Figure size 576x576 with 1 Axes>"
      ]
     },
     "metadata": {
      "needs_background": "light"
     },
     "output_type": "display_data"
    }
   ],
   "source": [
    "fig, ax = plt.subplots(figsize=(8, 8))\n",
    "ax =sns.barplot(x='count',y='word',data=c3)\n",
    "ax.set_title(\"20 Common Words Found in Top 50 Titles(Beads Bracelet)\")\n",
    "plt.show()"
   ]
  },
  {
   "cell_type": "markdown",
   "metadata": {},
   "source": [
    "## Beads Tutorial Top 50 Titles Analysis"
   ]
  },
  {
   "cell_type": "code",
   "execution_count": 120,
   "metadata": {},
   "outputs": [
    {
     "data": {
      "text/html": [
       "<div>\n",
       "<style scoped>\n",
       "    .dataframe tbody tr th:only-of-type {\n",
       "        vertical-align: middle;\n",
       "    }\n",
       "\n",
       "    .dataframe tbody tr th {\n",
       "        vertical-align: top;\n",
       "    }\n",
       "\n",
       "    .dataframe thead th {\n",
       "        text-align: right;\n",
       "    }\n",
       "</style>\n",
       "<table border=\"1\" class=\"dataframe\">\n",
       "  <thead>\n",
       "    <tr style=\"text-align: right;\">\n",
       "      <th></th>\n",
       "      <th>up time</th>\n",
       "      <th>channelId</th>\n",
       "      <th>title</th>\n",
       "      <th>description</th>\n",
       "      <th>youtuber</th>\n",
       "    </tr>\n",
       "  </thead>\n",
       "  <tbody>\n",
       "    <tr>\n",
       "      <th>0</th>\n",
       "      <td>2020-08-28T09:00:23Z</td>\n",
       "      <td>UCMkmvaTQXTCmd3fn4Gxw1Zw</td>\n",
       "      <td>[Eng] 비즈 수박 만들기 🍉 | Watermelon beads tutorial ...</td>\n",
       "      <td>한입베어물고싶은 비즈수박만들기 (/≧▽≦)/ 영상을 찍을때 쉽게 따라하실 수 있도록...</td>\n",
       "      <td>응구Eunggu</td>\n",
       "    </tr>\n",
       "    <tr>\n",
       "      <th>1</th>\n",
       "      <td>2012-12-04T02:14:38Z</td>\n",
       "      <td>UCayXdktyKEoJr7kQcEYXZhA</td>\n",
       "      <td>3D Beaded Turtle Ring Tutorial</td>\n",
       "      <td>Friend me on facebook and show me what you hav...</td>\n",
       "      <td>Beadifulnights</td>\n",
       "    </tr>\n",
       "    <tr>\n",
       "      <th>2</th>\n",
       "      <td>2021-02-21T16:30:35Z</td>\n",
       "      <td>UC1zIiKvJIi7aYl2N68pWF8g</td>\n",
       "      <td>Mutable Instruments Beads ‘texture synthesiser...</td>\n",
       "      <td>Welcome to my ULTIMATE GUIDE TO BEADS a Eurora...</td>\n",
       "      <td>DivKidVideo</td>\n",
       "    </tr>\n",
       "    <tr>\n",
       "      <th>3</th>\n",
       "      <td>2020-04-27T00:20:36Z</td>\n",
       "      <td>UCbwB9XJ1szItlWC-HAYY3kA</td>\n",
       "      <td>Sunflower Seed Bead Tutorial</td>\n",
       "      <td>https://youtu.be/SkD5dFzp7no : NEW VIDEO CLOSE...</td>\n",
       "      <td>Victoria Frost</td>\n",
       "    </tr>\n",
       "    <tr>\n",
       "      <th>4</th>\n",
       "      <td>2020-06-19T21:05:41Z</td>\n",
       "      <td>UCZ5bMNzCzLstbvZ2Ax4QEJQ</td>\n",
       "      <td>Beaded Daisy String</td>\n",
       "      <td>Native American beaded daisy chain tutorial, b...</td>\n",
       "      <td>Lisa Yang Jewelry</td>\n",
       "    </tr>\n",
       "  </tbody>\n",
       "</table>\n",
       "</div>"
      ],
      "text/plain": [
       "                up time                 channelId  \\\n",
       "0  2020-08-28T09:00:23Z  UCMkmvaTQXTCmd3fn4Gxw1Zw   \n",
       "1  2012-12-04T02:14:38Z  UCayXdktyKEoJr7kQcEYXZhA   \n",
       "2  2021-02-21T16:30:35Z  UC1zIiKvJIi7aYl2N68pWF8g   \n",
       "3  2020-04-27T00:20:36Z  UCbwB9XJ1szItlWC-HAYY3kA   \n",
       "4  2020-06-19T21:05:41Z  UCZ5bMNzCzLstbvZ2Ax4QEJQ   \n",
       "\n",
       "                                               title  \\\n",
       "0  [Eng] 비즈 수박 만들기 🍉 | Watermelon beads tutorial ...   \n",
       "1                     3D Beaded Turtle Ring Tutorial   \n",
       "2  Mutable Instruments Beads ‘texture synthesiser...   \n",
       "3                       Sunflower Seed Bead Tutorial   \n",
       "4                                Beaded Daisy String   \n",
       "\n",
       "                                         description           youtuber  \n",
       "0  한입베어물고싶은 비즈수박만들기 (/≧▽≦)/ 영상을 찍을때 쉽게 따라하실 수 있도록...           응구Eunggu  \n",
       "1  Friend me on facebook and show me what you hav...     Beadifulnights  \n",
       "2  Welcome to my ULTIMATE GUIDE TO BEADS a Eurora...        DivKidVideo  \n",
       "3  https://youtu.be/SkD5dFzp7no : NEW VIDEO CLOSE...     Victoria Frost  \n",
       "4  Native American beaded daisy chain tutorial, b...  Lisa Yang Jewelry  "
      ]
     },
     "execution_count": 120,
     "metadata": {},
     "output_type": "execute_result"
    }
   ],
   "source": [
    "c4df = pd.read_csv('Keyword Analysis -beads tutorial.csv')\n",
    "\n",
    "c4df = c4df.iloc[2:]\n",
    "c4df = c4df.reset_index()\n",
    "c4df = c4df.drop(['index','Enter the Term'],axis = 1)\n",
    "c4df.columns = ['up time','channelId','title','description','youtuber']\n",
    "c4df.head(5)"
   ]
  },
  {
   "cell_type": "code",
   "execution_count": 125,
   "metadata": {},
   "outputs": [
    {
     "data": {
      "image/png": "[encoded data removed]",
      "text/plain": [
       "<Figure size 576x576 with 1 Axes>"
      ]
     },
     "metadata": {
      "needs_background": "light"
     },
     "output_type": "display_data"
    }
   ],
   "source": [
    "c4words = titles_to_word_sets(c4df.title)\n",
    "c4count = count_occurences(c4words)\n",
    "\n",
    "c4 = pd.DataFrame(list(c4count.items())[:20],columns = ['word','count'])\n",
    "fig, ax = plt.subplots(figsize=(8, 8))\n",
    "ax =sns.barplot(x='count',y='word',data=c4)\n",
    "ax.set_title(\"20 Common Words Found in Top 50 Titles(Beads Tutorial)\")\n",
    "plt.show()"
   ]
  },
  {
   "cell_type": "code",
   "execution_count": null,
   "metadata": {},
   "outputs": [],
   "source": []
  }
 ],
 "metadata": {
  "kernelspec": {
   "display_name": "Python 3",
   "language": "python",
   "name": "python3"
  },
  "language_info": {
   "codemirror_mode": {
    "name": "ipython",
    "version": 3
   },
   "file_extension": ".py",
   "mimetype": "text/x-python",
   "name": "python",
   "nbconvert_exporter": "python",
   "pygments_lexer": "ipython3",
   "version": "3.8.5"
  }
 },
 "nbformat": 4,
 "nbformat_minor": 4
}
